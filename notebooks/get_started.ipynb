{
 "cells": [
  {
   "cell_type": "code",
   "execution_count": 1,
   "metadata": {},
   "outputs": [],
   "source": [
    "from arxiv_query_fluent import (\n",
    "    Query,\n",
    "    Field,\n",
    "    Category,\n",
    "    Opt,\n",
    "    DateRange,\n",
    "    SortCriterion,\n",
    "    SortOrder\n",
    ")"
   ]
  },
  {
   "cell_type": "code",
   "execution_count": null,
   "metadata": {},
   "outputs": [],
   "source": []
  },
  {
   "cell_type": "code",
   "execution_count": null,
   "metadata": {},
   "outputs": [
    {
     "name": "stdout",
     "output_type": "stream",
     "text": [
      "<enum 'Field'>\n"
     ]
    }
   ],
   "source": [
    "print(Field)"
   ]
  },
  {
   "cell_type": "code",
   "execution_count": 5,
   "metadata": {},
   "outputs": [
    {
     "name": "stdout",
     "output_type": "stream",
     "text": [
      "Page Entries: 1-26 | Total Entries : 26 | Pages: 1 / 1\n"
     ]
    }
   ],
   "source": [
    "query = Query().add(Field.author, \"Stas Tiomkin\")  \n",
    "result = query.get()\n",
    "result.desc()"
   ]
  },
  {
   "cell_type": "code",
   "execution_count": 6,
   "metadata": {},
   "outputs": [
    {
     "name": "stdout",
     "output_type": "stream",
     "text": [
      "Entries: 1-3/(26) | Pages: 1 / 1\n",
      "───────────────────────────────────────────\n",
      "Entry: #1\n",
      "Title: Acoustic Wave Manipulation Through Sparse Robotic Actuation | arXiv Identifier: 2502.08784v2\n",
      "Authors: Tristan Shah, Noam Smilovich, Feruza Amirkulova, Samer Gerges, Stas Tiomkin\n",
      "Published Date: 2025-02-12 20:54:46+00:00\n",
      "PDF Link: http://arxiv.org/pdf/2502.08784v2\n",
      "Abstract:\n",
      "Recent advancements in robotics, control, and machine learning have\n",
      "facilitated progress in the chal...\n",
      "───────────────────────────────────────────\n",
      "Entry: #2\n",
      "Title: Average-Reward Reinforcement Learning with Entropy Regularization | arXiv Identifier: 2501.09080v1\n",
      "Authors: Jacob Adamczyk, Volodymyr Makarenko, Stas Tiomkin, Rahul V. Kulkarni\n",
      "Published Date: 2025-01-15 19:00:46+00:00\n",
      "PDF Link: http://arxiv.org/pdf/2501.09080v1\n",
      "Abstract:\n",
      "The average-reward formulation of reinforcement learning (RL) has drawn\n",
      "increased interest in recent...\n",
      "───────────────────────────────────────────\n",
      "Entry: #3\n",
      "Title: EVAL: EigenVector-based Average-reward Learning | arXiv Identifier: 2501.09770v1\n",
      "Authors: Jacob Adamczyk, Volodymyr Makarenko, Stas Tiomkin, Rahul V. Kulkarni\n",
      "Published Date: 2025-01-15 19:00:45+00:00\n",
      "PDF Link: http://arxiv.org/pdf/2501.09770v1\n",
      "Abstract:\n",
      "In reinforcement learning, two objective functions have been developed\n",
      "extensively in the literature...\n",
      "───────────────────────────────────────────\n"
     ]
    }
   ],
   "source": [
    "result.show(top_n=3,abstract_shown=100)"
   ]
  },
  {
   "cell_type": "code",
   "execution_count": 9,
   "metadata": {},
   "outputs": [
    {
     "data": {
      "text/plain": [
       "'./2501.09080v1.pdf'"
      ]
     },
     "execution_count": 9,
     "metadata": {},
     "output_type": "execute_result"
    }
   ],
   "source": [
    "result.download_pdf(Identifier=\"2501.09080v1\",dirpath=\"./\")"
   ]
  },
  {
   "cell_type": "code",
   "execution_count": 10,
   "metadata": {},
   "outputs": [
    {
     "name": "stdout",
     "output_type": "stream",
     "text": [
      "[2025-02-12] [Acoustic Wave Manipulation Through Sparse Robotic Actuation] [Tristan Shah,Noam Smilovich,Feruza Amirkulova,Samer Gerges,Stas Tiomkin]\n",
      "[2025-01-15] [Average-Reward Reinforcement Learning with Entropy Regularization] [Jacob Adamczyk,Volodymyr Makarenko,Stas Tiomkin,Rahul V. Kulkarni]\n",
      "[2025-01-15] [EVAL: EigenVector-based Average-reward Learning] [Jacob Adamczyk,Volodymyr Makarenko,Stas Tiomkin,Rahul V. Kulkarni]\n",
      "[2025-01-02] [Bootstrapped Reward Shaping] [Jacob Adamczyk,Volodymyr Makarenko,Stas Tiomkin,Rahul V. Kulkarni]\n",
      "[2024-11-20] [SuPLE: Robot Learning with Lyapunov Rewards] [Phu Nguyen,Daniel Polani,Stas Tiomkin]\n",
      "[2024-06-26] [Boosting Soft Q-Learning by Bounding] [Jacob Adamczyk,Volodymyr Makarenko,Stas Tiomkin,Rahul V. Kulkarni]\n",
      "[2024-06-20] [Learning telic-controllable state representations] [Nadav Amir,Stas Tiomkin,Angela Langdon]\n",
      "[2023-11-27] [Taming Waves: A Physically-Interpretable Machine Learning Framework for Realizable Control of Wave Dynamics] [Tristan Shah,Feruza Amirkulova,Stas Tiomkin]\n",
      "[2023-11-11] [Controllability-Constrained Deep Network Models for Enhanced Control of Dynamical Systems] [Suruchi Sharma,Volodymyr Makarenko,Gautam Kumar,Stas Tiomkin]\n",
      "[2023-11-06] [Multi-Resolution Diffusion for Privacy-Sensitive Recommender Systems] [Derek Lilienthal,Paul Mello,Magdalini Eirinaki,Stas Tiomkin]\n",
      "\n"
     ]
    }
   ],
   "source": [
    "result = (\n",
    "    Query(max_entries_per_pager=10)\n",
    "    .add(Field.author, \"Stas Tiomkin\")\n",
    "    .add(Field.category,Category.CS_AI,Opt.And)\n",
    "    .get()\n",
    ") \n",
    "result.list()  "
   ]
  },
  {
   "cell_type": "code",
   "execution_count": 11,
   "metadata": {},
   "outputs": [
    {
     "name": "stdout",
     "output_type": "stream",
     "text": [
      "Entries: 1-3/(50) | Pages: 1 / 3\n",
      "───────────────────────────────────────────\n",
      "Entry: #1\n",
      "Title: Let the Expert Stick to His Last: Expert-Specialized Fine-Tuning for Sparse Architectural Large Language Models | arXiv Identifier: 2407.01906v2\n",
      "Authors: Zihan Wang, Deli Chen, Damai Dai, Runxin Xu, Zhuoshu Li, Y. Wu\n",
      "Published Date: 2024-07-02 03:11:13+00:00\n",
      "PDF Link: http://arxiv.org/pdf/2407.01906v2\n",
      "───────────────────────────────────────────\n",
      "Entry: #2\n",
      "Title: Let the Code LLM Edit Itself When You Edit the Code | arXiv Identifier: 2407.03157v2\n",
      "Authors: Zhenyu He, Jun Zhang, Shengjie Luo, Jingjing Xu, Zhi Zhang, Di He\n",
      "Published Date: 2024-07-03 14:34:03+00:00\n",
      "PDF Link: http://arxiv.org/pdf/2407.03157v2\n",
      "───────────────────────────────────────────\n",
      "Entry: #3\n",
      "Title: DotaMath: Decomposition of Thought with Code Assistance and Self-correction for Mathematical Reasoning | arXiv Identifier: 2407.04078v3\n",
      "Authors: Chengpeng Li, Guanting Dong, Mingfeng Xue, Ru Peng, Xiang Wang, Dayiheng Liu\n",
      "Published Date: 2024-07-04 17:39:16+00:00\n",
      "PDF Link: http://arxiv.org/pdf/2407.04078v3\n",
      "───────────────────────────────────────────\n"
     ]
    }
   ],
   "source": [
    "deepseek = (\n",
    "    Query(sortBy=SortCriterion.SubmittedDate,sortOrder=SortOrder.Ascending)\n",
    "    .add(Field.category, Category.CS_AI)\n",
    "    .add(Field.all, \"DeepSeek\", Opt.And).\n",
    "    add(Field.submitted_date, DateRange(\"20240701\", \"20250228\"), Opt.And)\n",
    "    .get(1)\n",
    ")\n",
    "deepseek.show(3,abstract_shown=0)"
   ]
  },
  {
   "cell_type": "code",
   "execution_count": null,
   "metadata": {},
   "outputs": [
    {
     "name": "stdout",
     "output_type": "stream",
     "text": [
      "Entries: 1-3/(50) | Pages: 1 / 3\n",
      "───────────────────────────────────────────\n",
      "Entry: #1\n",
      "Title: DocPuzzle: A Process-Aware Benchmark for Evaluating Realistic Long-Context Reasoning Capabilities | arXiv Identifier: 2502.17807v1\n",
      "Authors: Tianyi Zhuang, Chuqiao Kuang, Xiaoguang Li, Yihua Teng, Jihao Wu, Yasheng Wang, Lifeng Shang\n",
      "Published Date: 2025-02-25 03:29:53+00:00\n",
      "PDF Link: http://arxiv.org/pdf/2502.17807v1\n",
      "───────────────────────────────────────────\n",
      "Entry: #2\n",
      "Title: A Comparison of DeepSeek and Other LLMs | arXiv Identifier: 2502.03688v2\n",
      "Authors: Tianchen Gao, Jiashun Jin, Zheng Tracy Ke, Gabriel Moryoussef\n",
      "Published Date: 2025-02-06 00:38:25+00:00\n",
      "PDF Link: http://arxiv.org/pdf/2502.03688v2\n",
      "───────────────────────────────────────────\n",
      "Entry: #3\n",
      "Title: DeepSeek-VL2: Mixture-of-Experts Vision-Language Models for Advanced Multimodal Understanding | arXiv Identifier: 2412.10302v1\n",
      "Authors: Zhiyu Wu, Xiaokang Chen, Zizheng Pan, Xingchao Liu, Wen Liu, Damai Dai, Huazuo Gao, Yiyang Ma, Chengyue Wu, Bingxuan Wang, Zhenda Xie, Yu Wu, Kai Hu, Jiawei Wang, Yaofeng Sun, Yukun Li, Yishi Piao, Kang Guan, Aixin Liu, Xin Xie, Yuxiang You, Kai Dong, Xingkai Yu, Haowei Zhang, Liang Zhao, Yisong Wang, Chong Ruan\n",
      "Published Date: 2024-12-13 17:37:48+00:00\n",
      "PDF Link: http://arxiv.org/pdf/2412.10302v1\n",
      "───────────────────────────────────────────\n"
     ]
    }
   ],
   "source": [
    "(\n",
    "    Query(sortBy=SortCriterion.Relevance, sortOrder=SortOrder.Descending)\n",
    "    .add(Field.category, Category.CS_AI)\n",
    "    .add(Field.all, \"DeepSeek\", Opt.And)\n",
    "    .add(Field.submitted_date, DateRange(\"20240701\", \"20250228\"), Opt.And)\n",
    "    .get(1)\n",
    "    .show(3, 0)\n",
    ")"
   ]
  },
  {
   "cell_type": "code",
   "execution_count": 13,
   "metadata": {},
   "outputs": [],
   "source": [
    "group_1 = Query().add(Field.author, \"Stas Tiomkin\").add(Field.author, \"Daniel Polani\", Opt.And)\n",
    "group_2 = Query().add(Field.title, \"Dynamic\", Opt.Or).add(Field.submitted_date, DateRange(\"20240101\", \"20241231\"), Opt.Or)\n",
    "query = Query().add_group(group_1).add_group(group_2, Opt.And_Not)\n"
   ]
  },
  {
   "cell_type": "code",
   "execution_count": 14,
   "metadata": {},
   "outputs": [
    {
     "name": "stdout",
     "output_type": "stream",
     "text": [
      "Page Entries: 1-1 | Total Entries : 1 | Pages: 1 / 1\n"
     ]
    }
   ],
   "source": [
    "result = query.get()\n",
    "result.desc()"
   ]
  },
  {
   "cell_type": "code",
   "execution_count": null,
   "metadata": {},
   "outputs": [
    {
     "name": "stdout",
     "output_type": "stream",
     "text": [
      "Entries: 1-1/(1) | Pages: 1 / 1\n",
      "───────────────────────────────────────────\n",
      "Entry: #1\n",
      "Title: AvE: Assistance via Empowerment | arXiv Identifier: 2006.14796v5\n",
      "Authors: Yuqing Du, Stas Tiomkin, Emre Kiciman, Daniel Polani, Pieter Abbeel, Anca Dragan\n",
      "Published Date: 2020-06-26 04:40:11+00:00\n",
      "PDF Link: http://arxiv.org/pdf/2006.14796v5\n",
      "Abstract:\n",
      "One difficulty in using artificial agents for human-assistive applications\n",
      "lies in the challenge of accurately assisting with a person's goal(s). Existing\n",
      "methods tend to rely on inferring the human's...\n",
      "───────────────────────────────────────────\n"
     ]
    }
   ],
   "source": [
    "result.show()"
   ]
  },
  {
   "cell_type": "code",
   "execution_count": 2,
   "metadata": {},
   "outputs": [
    {
     "name": "stdout",
     "output_type": "stream",
     "text": [
      "Page Entries: 1-10 | Total Entries : 65 | Pages: 1 / 7\n",
      "Page Entries: 11-20 | Total Entries : 65 | Pages: 2 / 7\n",
      "Page Entries: 21-30 | Total Entries : 65 | Pages: 3 / 7\n",
      "Page Entries: 31-40 | Total Entries : 65 | Pages: 4 / 7\n",
      "Page Entries: 41-50 | Total Entries : 65 | Pages: 5 / 7\n",
      "Page Entries: 51-60 | Total Entries : 65 | Pages: 6 / 7\n",
      "Page Entries: 61-65 | Total Entries : 65 | Pages: 7 / 7\n"
     ]
    }
   ],
   "source": [
    "q = Query(max_entries_per_pager=10).add(Field.title,\"transformer\").add(Field.submitted_date,DateRange(\"20230101\",\"20230110\"),Opt.And)\n",
    "total = 0\n",
    "for n,page in enumerate(q.paginated_results(),1):\n",
    "    page.desc()"
   ]
  }
 ],
 "metadata": {
  "kernelspec": {
   "display_name": "Python 3",
   "language": "python",
   "name": "python3"
  },
  "language_info": {
   "codemirror_mode": {
    "name": "ipython",
    "version": 3
   },
   "file_extension": ".py",
   "mimetype": "text/x-python",
   "name": "python",
   "nbconvert_exporter": "python",
   "pygments_lexer": "ipython3",
   "version": "3.11.11"
  }
 },
 "nbformat": 4,
 "nbformat_minor": 2
}
